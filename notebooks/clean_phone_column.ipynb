{
 "cells": [
  {
   "cell_type": "code",
   "execution_count": 1,
   "metadata": {},
   "outputs": [],
   "source": [
    "import pandas as pd"
   ]
  },
  {
   "cell_type": "code",
   "execution_count": 2,
   "metadata": {},
   "outputs": [
    {
     "data": {
      "text/html": [
       "<div>\n",
       "<style scoped>\n",
       "    .dataframe tbody tr th:only-of-type {\n",
       "        vertical-align: middle;\n",
       "    }\n",
       "\n",
       "    .dataframe tbody tr th {\n",
       "        vertical-align: top;\n",
       "    }\n",
       "\n",
       "    .dataframe thead th {\n",
       "        text-align: right;\n",
       "    }\n",
       "</style>\n",
       "<table border=\"1\" class=\"dataframe\">\n",
       "  <thead>\n",
       "    <tr style=\"text-align: right;\">\n",
       "      <th></th>\n",
       "      <th>Sal</th>\n",
       "      <th>Contact/First Name</th>\n",
       "      <th>Contact/Last Name</th>\n",
       "      <th>Contact/Mobile</th>\n",
       "    </tr>\n",
       "  </thead>\n",
       "  <tbody>\n",
       "    <tr>\n",
       "      <th>0</th>\n",
       "      <td>NaN</td>\n",
       "      <td>NaN</td>\n",
       "      <td>NaN</td>\n",
       "      <td>0815 17159585</td>\n",
       "    </tr>\n",
       "    <tr>\n",
       "      <th>1</th>\n",
       "      <td>NaN</td>\n",
       "      <td>NaN</td>\n",
       "      <td>Makassar Orient Logistics PT</td>\n",
       "      <td>0813 55943336</td>\n",
       "    </tr>\n",
       "    <tr>\n",
       "      <th>2</th>\n",
       "      <td>NaN</td>\n",
       "      <td>NaN</td>\n",
       "      <td>Sintra Cargo Service PT</td>\n",
       "      <td>0813 43602107</td>\n",
       "    </tr>\n",
       "    <tr>\n",
       "      <th>3</th>\n",
       "      <td>NaN</td>\n",
       "      <td>NaN</td>\n",
       "      <td>LMS Logistic Makassar PT</td>\n",
       "      <td>0821 96708348</td>\n",
       "    </tr>\n",
       "    <tr>\n",
       "      <th>4</th>\n",
       "      <td>NaN</td>\n",
       "      <td>NaN</td>\n",
       "      <td>Himeji Express PT Cabang Makassar</td>\n",
       "      <td>0811 3515152</td>\n",
       "    </tr>\n",
       "  </tbody>\n",
       "</table>\n",
       "</div>"
      ],
      "text/plain": [
       "   Sal  Contact/First Name                  Contact/Last Name Contact/Mobile\n",
       "0  NaN                 NaN                                NaN  0815 17159585\n",
       "1  NaN                 NaN       Makassar Orient Logistics PT  0813 55943336\n",
       "2  NaN                 NaN            Sintra Cargo Service PT  0813 43602107\n",
       "3  NaN                 NaN           LMS Logistic Makassar PT  0821 96708348\n",
       "4  NaN                 NaN  Himeji Express PT Cabang Makassar   0811 3515152"
      ]
     },
     "execution_count": 2,
     "metadata": {},
     "output_type": "execute_result"
    }
   ],
   "source": [
    "df = pd.read_excel(\"../input/Name list wa blast Madev End User.xlsx\")\n",
    "df.head()"
   ]
  },
  {
   "cell_type": "code",
   "execution_count": 3,
   "metadata": {},
   "outputs": [
    {
     "name": "stderr",
     "output_type": "stream",
     "text": [
      "/var/folders/l0/7qjh0cvx5d7d6hvq3n835gf40000gn/T/ipykernel_6306/702497354.py:12: FutureWarning: Setting an item of incompatible dtype is deprecated and will raise in a future error of pandas. Value '' has dtype incompatible with float64, please explicitly cast to a compatible dtype first.\n",
      "  df.fillna('', inplace=True)\n"
     ]
    },
    {
     "data": {
      "text/html": [
       "<div>\n",
       "<style scoped>\n",
       "    .dataframe tbody tr th:only-of-type {\n",
       "        vertical-align: middle;\n",
       "    }\n",
       "\n",
       "    .dataframe tbody tr th {\n",
       "        vertical-align: top;\n",
       "    }\n",
       "\n",
       "    .dataframe thead th {\n",
       "        text-align: right;\n",
       "    }\n",
       "</style>\n",
       "<table border=\"1\" class=\"dataframe\">\n",
       "  <thead>\n",
       "    <tr style=\"text-align: right;\">\n",
       "      <th></th>\n",
       "      <th>Sal</th>\n",
       "      <th>Contact/First Name</th>\n",
       "      <th>Contact/Last Name</th>\n",
       "      <th>Contact/Mobile</th>\n",
       "    </tr>\n",
       "  </thead>\n",
       "  <tbody>\n",
       "    <tr>\n",
       "      <th>0</th>\n",
       "      <td></td>\n",
       "      <td></td>\n",
       "      <td></td>\n",
       "      <td>+6281517159585</td>\n",
       "    </tr>\n",
       "    <tr>\n",
       "      <th>1</th>\n",
       "      <td></td>\n",
       "      <td></td>\n",
       "      <td>Makassar Orient Logistics PT</td>\n",
       "      <td>+6281355943336</td>\n",
       "    </tr>\n",
       "    <tr>\n",
       "      <th>2</th>\n",
       "      <td></td>\n",
       "      <td></td>\n",
       "      <td>Sintra Cargo Service PT</td>\n",
       "      <td>+6281343602107</td>\n",
       "    </tr>\n",
       "    <tr>\n",
       "      <th>3</th>\n",
       "      <td></td>\n",
       "      <td></td>\n",
       "      <td>LMS Logistic Makassar PT</td>\n",
       "      <td>+6282196708348</td>\n",
       "    </tr>\n",
       "    <tr>\n",
       "      <th>4</th>\n",
       "      <td></td>\n",
       "      <td></td>\n",
       "      <td>Himeji Express PT Cabang Makassar</td>\n",
       "      <td>+628113515152</td>\n",
       "    </tr>\n",
       "  </tbody>\n",
       "</table>\n",
       "</div>"
      ],
      "text/plain": [
       "  Sal Contact/First Name                  Contact/Last Name  Contact/Mobile\n",
       "0                                                            +6281517159585\n",
       "1                              Makassar Orient Logistics PT  +6281355943336\n",
       "2                                   Sintra Cargo Service PT  +6281343602107\n",
       "3                                  LMS Logistic Makassar PT  +6282196708348\n",
       "4                         Himeji Express PT Cabang Makassar   +628113515152"
      ]
     },
     "execution_count": 3,
     "metadata": {},
     "output_type": "execute_result"
    }
   ],
   "source": [
    "# Remove all whitespaces\n",
    "df[\"Contact/Mobile\"] = df[\"Contact/Mobile\"].str.replace(\" \", \"\")\n",
    "# Add +62 prefix to all Contact/Mobile numbers\n",
    "\n",
    "df[\"Contact/Mobile\"] = df[\"Contact/Mobile\"].str.replace(\"-\", \"\")\n",
    "# Remove the first \"0\" if it exists\n",
    "df[\"Contact/Mobile\"] = df[\"Contact/Mobile\"].str.lstrip(\"0\")\n",
    "\n",
    "# Add +62 prefix to all Contact/Mobile numbers\n",
    "df[\"Contact/Mobile\"] = \"+62\" + df[\"Contact/Mobile\"]\n",
    "\n",
    "df.fillna('', inplace=True)\n",
    "\n",
    "df.head()"
   ]
  },
  {
   "cell_type": "code",
   "execution_count": 4,
   "metadata": {},
   "outputs": [],
   "source": [
    "df.to_excel(\"../input/fixed.xlsx\", index=False)"
   ]
  },
  {
   "cell_type": "code",
   "execution_count": null,
   "metadata": {},
   "outputs": [],
   "source": []
  },
  {
   "cell_type": "code",
   "execution_count": null,
   "metadata": {},
   "outputs": [],
   "source": []
  },
  {
   "cell_type": "code",
   "execution_count": null,
   "metadata": {},
   "outputs": [],
   "source": []
  }
 ],
 "metadata": {
  "kernelspec": {
   "display_name": "harnis",
   "language": "python",
   "name": "harnis"
  }
 },
 "nbformat": 4,
 "nbformat_minor": 2
}
