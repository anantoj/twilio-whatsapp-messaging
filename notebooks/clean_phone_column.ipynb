{
 "cells": [
  {
   "cell_type": "code",
   "execution_count": 5,
   "metadata": {},
   "outputs": [],
   "source": [
    "import pandas as pd \n"
   ]
  },
  {
   "cell_type": "code",
   "execution_count": 6,
   "metadata": {},
   "outputs": [
    {
     "data": {
      "text/html": [
       "<div>\n",
       "<style scoped>\n",
       "    .dataframe tbody tr th:only-of-type {\n",
       "        vertical-align: middle;\n",
       "    }\n",
       "\n",
       "    .dataframe tbody tr th {\n",
       "        vertical-align: top;\n",
       "    }\n",
       "\n",
       "    .dataframe thead th {\n",
       "        text-align: right;\n",
       "    }\n",
       "</style>\n",
       "<table border=\"1\" class=\"dataframe\">\n",
       "  <thead>\n",
       "    <tr style=\"text-align: right;\">\n",
       "      <th></th>\n",
       "      <th>Contact/First Name</th>\n",
       "      <th>Contact/Last Name</th>\n",
       "      <th>Contact/Mobile</th>\n",
       "    </tr>\n",
       "  </thead>\n",
       "  <tbody>\n",
       "    <tr>\n",
       "      <th>0</th>\n",
       "      <td>NaN</td>\n",
       "      <td>NaN</td>\n",
       "      <td>0818 755187</td>\n",
       "    </tr>\n",
       "    <tr>\n",
       "      <th>1</th>\n",
       "      <td>Paulus</td>\n",
       "      <td>NG</td>\n",
       "      <td>0898 30160</td>\n",
       "    </tr>\n",
       "    <tr>\n",
       "      <th>2</th>\n",
       "      <td>Suharno</td>\n",
       "      <td>Tan</td>\n",
       "      <td>0818 961838</td>\n",
       "    </tr>\n",
       "    <tr>\n",
       "      <th>3</th>\n",
       "      <td>Aswin</td>\n",
       "      <td>NaN</td>\n",
       "      <td>0812 87165082</td>\n",
       "    </tr>\n",
       "    <tr>\n",
       "      <th>4</th>\n",
       "      <td>Christopher</td>\n",
       "      <td>NaN</td>\n",
       "      <td>0859 21448693</td>\n",
       "    </tr>\n",
       "  </tbody>\n",
       "</table>\n",
       "</div>"
      ],
      "text/plain": [
       "  Contact/First Name Contact/Last Name Contact/Mobile\n",
       "0                NaN               NaN    0818 755187\n",
       "1             Paulus                NG     0898 30160\n",
       "2            Suharno               Tan    0818 961838\n",
       "3              Aswin               NaN  0812 87165082\n",
       "4        Christopher               NaN  0859 21448693"
      ]
     },
     "execution_count": 6,
     "metadata": {},
     "output_type": "execute_result"
    }
   ],
   "source": [
    "df = pd.read_excel(\"../input/Name List WA Blast.xlsx\")\n",
    "df.head()"
   ]
  },
  {
   "cell_type": "code",
   "execution_count": 7,
   "metadata": {},
   "outputs": [
    {
     "data": {
      "text/html": [
       "<div>\n",
       "<style scoped>\n",
       "    .dataframe tbody tr th:only-of-type {\n",
       "        vertical-align: middle;\n",
       "    }\n",
       "\n",
       "    .dataframe tbody tr th {\n",
       "        vertical-align: top;\n",
       "    }\n",
       "\n",
       "    .dataframe thead th {\n",
       "        text-align: right;\n",
       "    }\n",
       "</style>\n",
       "<table border=\"1\" class=\"dataframe\">\n",
       "  <thead>\n",
       "    <tr style=\"text-align: right;\">\n",
       "      <th></th>\n",
       "      <th>Contact/First Name</th>\n",
       "      <th>Contact/Last Name</th>\n",
       "      <th>Contact/Mobile</th>\n",
       "    </tr>\n",
       "  </thead>\n",
       "  <tbody>\n",
       "    <tr>\n",
       "      <th>0</th>\n",
       "      <td>NaN</td>\n",
       "      <td>NaN</td>\n",
       "      <td>+62818755187</td>\n",
       "    </tr>\n",
       "    <tr>\n",
       "      <th>1</th>\n",
       "      <td>Paulus</td>\n",
       "      <td>NG</td>\n",
       "      <td>+6289830160</td>\n",
       "    </tr>\n",
       "    <tr>\n",
       "      <th>2</th>\n",
       "      <td>Suharno</td>\n",
       "      <td>Tan</td>\n",
       "      <td>+62818961838</td>\n",
       "    </tr>\n",
       "    <tr>\n",
       "      <th>3</th>\n",
       "      <td>Aswin</td>\n",
       "      <td>NaN</td>\n",
       "      <td>+6281287165082</td>\n",
       "    </tr>\n",
       "    <tr>\n",
       "      <th>4</th>\n",
       "      <td>Christopher</td>\n",
       "      <td>NaN</td>\n",
       "      <td>+6285921448693</td>\n",
       "    </tr>\n",
       "  </tbody>\n",
       "</table>\n",
       "</div>"
      ],
      "text/plain": [
       "  Contact/First Name Contact/Last Name  Contact/Mobile\n",
       "0                NaN               NaN    +62818755187\n",
       "1             Paulus                NG     +6289830160\n",
       "2            Suharno               Tan    +62818961838\n",
       "3              Aswin               NaN  +6281287165082\n",
       "4        Christopher               NaN  +6285921448693"
      ]
     },
     "execution_count": 7,
     "metadata": {},
     "output_type": "execute_result"
    }
   ],
   "source": [
    "# Remove all whitespaces\n",
    "df['Contact/Mobile'] = df['Contact/Mobile'].str.replace(' ', '')\n",
    "# Add +62 prefix to all Contact/Mobile numbers\n",
    "# Remove the first \"0\" if it exists\n",
    "df['Contact/Mobile'] = df['Contact/Mobile'].str.lstrip('0')\n",
    "\n",
    "# Add +62 prefix to all Contact/Mobile numbers\n",
    "df['Contact/Mobile'] = '+62' + df['Contact/Mobile']\n",
    "df.head()"
   ]
  },
  {
   "cell_type": "code",
   "execution_count": null,
   "metadata": {},
   "outputs": [],
   "source": [
    "df.to_excel(\"../input/fixed_df.xlsx\", index=False)"
   ]
  },
  {
   "cell_type": "code",
   "execution_count": null,
   "metadata": {},
   "outputs": [],
   "source": []
  }
 ],
 "metadata": {
  "kernelspec": {
   "display_name": "harnis",
   "language": "python",
   "name": "harnis"
  }
 },
 "nbformat": 4,
 "nbformat_minor": 2
}
