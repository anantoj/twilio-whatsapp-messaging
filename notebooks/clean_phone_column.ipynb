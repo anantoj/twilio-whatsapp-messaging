{
 "cells": [
  {
   "cell_type": "code",
   "execution_count": 1,
   "metadata": {},
   "outputs": [],
   "source": [
    "import pandas as pd"
   ]
  },
  {
   "cell_type": "code",
   "execution_count": 2,
   "metadata": {},
   "outputs": [
    {
     "data": {
      "text/html": [
       "<div>\n",
       "<style scoped>\n",
       "    .dataframe tbody tr th:only-of-type {\n",
       "        vertical-align: middle;\n",
       "    }\n",
       "\n",
       "    .dataframe tbody tr th {\n",
       "        vertical-align: top;\n",
       "    }\n",
       "\n",
       "    .dataframe thead th {\n",
       "        text-align: right;\n",
       "    }\n",
       "</style>\n",
       "<table border=\"1\" class=\"dataframe\">\n",
       "  <thead>\n",
       "    <tr style=\"text-align: right;\">\n",
       "      <th></th>\n",
       "      <th>Contact/First Name</th>\n",
       "      <th>Contact/Last Name</th>\n",
       "      <th>Contact/Mobile</th>\n",
       "    </tr>\n",
       "  </thead>\n",
       "  <tbody>\n",
       "    <tr>\n",
       "      <th>0</th>\n",
       "      <td>Agus</td>\n",
       "      <td>NaN</td>\n",
       "      <td>0812 3216266</td>\n",
       "    </tr>\n",
       "    <tr>\n",
       "      <th>1</th>\n",
       "      <td>Agus</td>\n",
       "      <td>Adianto</td>\n",
       "      <td>081 23216266</td>\n",
       "    </tr>\n",
       "    <tr>\n",
       "      <th>2</th>\n",
       "      <td>M</td>\n",
       "      <td>Ichwannudin</td>\n",
       "      <td>0856 54005566</td>\n",
       "    </tr>\n",
       "    <tr>\n",
       "      <th>3</th>\n",
       "      <td>Wawan</td>\n",
       "      <td>NaN</td>\n",
       "      <td>0856 54005566</td>\n",
       "    </tr>\n",
       "    <tr>\n",
       "      <th>4</th>\n",
       "      <td>Heru</td>\n",
       "      <td>Siswanto</td>\n",
       "      <td>0817 03410626</td>\n",
       "    </tr>\n",
       "  </tbody>\n",
       "</table>\n",
       "</div>"
      ],
      "text/plain": [
       "  Contact/First Name Contact/Last Name Contact/Mobile\n",
       "0               Agus               NaN   0812 3216266\n",
       "1               Agus           Adianto   081 23216266\n",
       "2                  M       Ichwannudin  0856 54005566\n",
       "3              Wawan               NaN  0856 54005566\n",
       "4               Heru          Siswanto  0817 03410626"
      ]
     },
     "execution_count": 2,
     "metadata": {},
     "output_type": "execute_result"
    }
   ],
   "source": [
    "df = pd.read_excel(\"../input/ecs_fortinet_060324.xlsx\")\n",
    "df.head()"
   ]
  },
  {
   "cell_type": "code",
   "execution_count": 3,
   "metadata": {},
   "outputs": [
    {
     "data": {
      "text/html": [
       "<div>\n",
       "<style scoped>\n",
       "    .dataframe tbody tr th:only-of-type {\n",
       "        vertical-align: middle;\n",
       "    }\n",
       "\n",
       "    .dataframe tbody tr th {\n",
       "        vertical-align: top;\n",
       "    }\n",
       "\n",
       "    .dataframe thead th {\n",
       "        text-align: right;\n",
       "    }\n",
       "</style>\n",
       "<table border=\"1\" class=\"dataframe\">\n",
       "  <thead>\n",
       "    <tr style=\"text-align: right;\">\n",
       "      <th></th>\n",
       "      <th>Contact/First Name</th>\n",
       "      <th>Contact/Last Name</th>\n",
       "      <th>Contact/Mobile</th>\n",
       "    </tr>\n",
       "  </thead>\n",
       "  <tbody>\n",
       "    <tr>\n",
       "      <th>0</th>\n",
       "      <td>Agus</td>\n",
       "      <td>NaN</td>\n",
       "      <td>+628123216266</td>\n",
       "    </tr>\n",
       "    <tr>\n",
       "      <th>1</th>\n",
       "      <td>Agus</td>\n",
       "      <td>Adianto</td>\n",
       "      <td>+628123216266</td>\n",
       "    </tr>\n",
       "    <tr>\n",
       "      <th>2</th>\n",
       "      <td>M</td>\n",
       "      <td>Ichwannudin</td>\n",
       "      <td>+6285654005566</td>\n",
       "    </tr>\n",
       "    <tr>\n",
       "      <th>3</th>\n",
       "      <td>Wawan</td>\n",
       "      <td>NaN</td>\n",
       "      <td>+6285654005566</td>\n",
       "    </tr>\n",
       "    <tr>\n",
       "      <th>4</th>\n",
       "      <td>Heru</td>\n",
       "      <td>Siswanto</td>\n",
       "      <td>+6281703410626</td>\n",
       "    </tr>\n",
       "  </tbody>\n",
       "</table>\n",
       "</div>"
      ],
      "text/plain": [
       "  Contact/First Name Contact/Last Name  Contact/Mobile\n",
       "0               Agus               NaN   +628123216266\n",
       "1               Agus           Adianto   +628123216266\n",
       "2                  M       Ichwannudin  +6285654005566\n",
       "3              Wawan               NaN  +6285654005566\n",
       "4               Heru          Siswanto  +6281703410626"
      ]
     },
     "execution_count": 3,
     "metadata": {},
     "output_type": "execute_result"
    }
   ],
   "source": [
    "# Remove all whitespaces\n",
    "df[\"Contact/Mobile\"] = df[\"Contact/Mobile\"].str.replace(\" \", \"\")\n",
    "# Add +62 prefix to all Contact/Mobile numbers\n",
    "# Remove the first \"0\" if it exists\n",
    "df[\"Contact/Mobile\"] = df[\"Contact/Mobile\"].str.lstrip(\"0\")\n",
    "\n",
    "# Add +62 prefix to all Contact/Mobile numbers\n",
    "df[\"Contact/Mobile\"] = \"+62\" + df[\"Contact/Mobile\"]\n",
    "df.head()"
   ]
  },
  {
   "cell_type": "code",
   "execution_count": 4,
   "metadata": {},
   "outputs": [],
   "source": [
    "df.to_excel(\"../input/ecs_fortinet_060324_fixed_df.xlsx\", index=False)"
   ]
  },
  {
   "cell_type": "code",
   "execution_count": null,
   "metadata": {},
   "outputs": [],
   "source": []
  }
 ],
 "metadata": {
  "kernelspec": {
   "display_name": "harnis",
   "language": "python",
   "name": "harnis"
  },
  "language_info": {
   "codemirror_mode": {
    "name": "ipython",
    "version": 3
   },
   "file_extension": ".py",
   "mimetype": "text/x-python",
   "name": "python",
   "nbconvert_exporter": "python",
   "pygments_lexer": "ipython3",
   "version": "3.9.17"
  }
 },
 "nbformat": 4,
 "nbformat_minor": 2
}
