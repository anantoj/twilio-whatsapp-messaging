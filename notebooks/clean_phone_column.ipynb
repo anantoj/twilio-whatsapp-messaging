{
 "cells": [
  {
   "cell_type": "code",
   "execution_count": 1,
   "metadata": {},
   "outputs": [],
   "source": [
    "import pandas as pd"
   ]
  },
  {
   "cell_type": "code",
   "execution_count": 3,
   "metadata": {},
   "outputs": [
    {
     "data": {
      "text/html": [
       "<div>\n",
       "<style scoped>\n",
       "    .dataframe tbody tr th:only-of-type {\n",
       "        vertical-align: middle;\n",
       "    }\n",
       "\n",
       "    .dataframe tbody tr th {\n",
       "        vertical-align: top;\n",
       "    }\n",
       "\n",
       "    .dataframe thead th {\n",
       "        text-align: right;\n",
       "    }\n",
       "</style>\n",
       "<table border=\"1\" class=\"dataframe\">\n",
       "  <thead>\n",
       "    <tr style=\"text-align: right;\">\n",
       "      <th></th>\n",
       "      <th>Contact/Title/Title</th>\n",
       "      <th>Contact/First Name</th>\n",
       "      <th>Contact/Last Name</th>\n",
       "      <th>Contact/Mobile</th>\n",
       "    </tr>\n",
       "  </thead>\n",
       "  <tbody>\n",
       "    <tr>\n",
       "      <th>0</th>\n",
       "      <td>Ms</td>\n",
       "      <td>Fitriah</td>\n",
       "      <td>NaN</td>\n",
       "      <td>0858 14807700</td>\n",
       "    </tr>\n",
       "    <tr>\n",
       "      <th>1</th>\n",
       "      <td>Mr</td>\n",
       "      <td>Rizqi</td>\n",
       "      <td>NaN</td>\n",
       "      <td>0857 94503652</td>\n",
       "    </tr>\n",
       "    <tr>\n",
       "      <th>2</th>\n",
       "      <td>Ms</td>\n",
       "      <td>Helma</td>\n",
       "      <td>NaN</td>\n",
       "      <td>0812 9941155</td>\n",
       "    </tr>\n",
       "    <tr>\n",
       "      <th>3</th>\n",
       "      <td>Mr</td>\n",
       "      <td>Agustinus</td>\n",
       "      <td>Agustinus</td>\n",
       "      <td>NaN</td>\n",
       "    </tr>\n",
       "    <tr>\n",
       "      <th>4</th>\n",
       "      <td>Mr</td>\n",
       "      <td>Rudi</td>\n",
       "      <td>Rudi</td>\n",
       "      <td>NaN</td>\n",
       "    </tr>\n",
       "  </tbody>\n",
       "</table>\n",
       "</div>"
      ],
      "text/plain": [
       "  Contact/Title/Title Contact/First Name Contact/Last Name Contact/Mobile\n",
       "0                  Ms            Fitriah               NaN  0858 14807700\n",
       "1                  Mr              Rizqi               NaN  0857 94503652\n",
       "2                  Ms              Helma               NaN   0812 9941155\n",
       "3                  Mr          Agustinus         Agustinus            NaN\n",
       "4                  Mr               Rudi              Rudi            NaN"
      ]
     },
     "execution_count": 3,
     "metadata": {},
     "output_type": "execute_result"
    }
   ],
   "source": [
    "df = pd.read_excel(\"../input/Blast Whatsapp Seminar TD-MII-Cloudera 18 July 24.xlsx\")\n",
    "df.head()"
   ]
  },
  {
   "cell_type": "code",
   "execution_count": 4,
   "metadata": {},
   "outputs": [
    {
     "data": {
      "text/html": [
       "<div>\n",
       "<style scoped>\n",
       "    .dataframe tbody tr th:only-of-type {\n",
       "        vertical-align: middle;\n",
       "    }\n",
       "\n",
       "    .dataframe tbody tr th {\n",
       "        vertical-align: top;\n",
       "    }\n",
       "\n",
       "    .dataframe thead th {\n",
       "        text-align: right;\n",
       "    }\n",
       "</style>\n",
       "<table border=\"1\" class=\"dataframe\">\n",
       "  <thead>\n",
       "    <tr style=\"text-align: right;\">\n",
       "      <th></th>\n",
       "      <th>Contact/Title/Title</th>\n",
       "      <th>Contact/First Name</th>\n",
       "      <th>Contact/Last Name</th>\n",
       "      <th>Contact/Mobile</th>\n",
       "    </tr>\n",
       "  </thead>\n",
       "  <tbody>\n",
       "    <tr>\n",
       "      <th>0</th>\n",
       "      <td>Ms</td>\n",
       "      <td>Fitriah</td>\n",
       "      <td></td>\n",
       "      <td>+6285814807700</td>\n",
       "    </tr>\n",
       "    <tr>\n",
       "      <th>1</th>\n",
       "      <td>Mr</td>\n",
       "      <td>Rizqi</td>\n",
       "      <td></td>\n",
       "      <td>+6285794503652</td>\n",
       "    </tr>\n",
       "    <tr>\n",
       "      <th>2</th>\n",
       "      <td>Ms</td>\n",
       "      <td>Helma</td>\n",
       "      <td></td>\n",
       "      <td>+628129941155</td>\n",
       "    </tr>\n",
       "    <tr>\n",
       "      <th>3</th>\n",
       "      <td>Mr</td>\n",
       "      <td>Agustinus</td>\n",
       "      <td>Agustinus</td>\n",
       "      <td></td>\n",
       "    </tr>\n",
       "    <tr>\n",
       "      <th>4</th>\n",
       "      <td>Mr</td>\n",
       "      <td>Rudi</td>\n",
       "      <td>Rudi</td>\n",
       "      <td></td>\n",
       "    </tr>\n",
       "  </tbody>\n",
       "</table>\n",
       "</div>"
      ],
      "text/plain": [
       "  Contact/Title/Title Contact/First Name Contact/Last Name  Contact/Mobile\n",
       "0                  Ms            Fitriah                    +6285814807700\n",
       "1                  Mr              Rizqi                    +6285794503652\n",
       "2                  Ms              Helma                     +628129941155\n",
       "3                  Mr          Agustinus         Agustinus                \n",
       "4                  Mr               Rudi              Rudi                "
      ]
     },
     "execution_count": 4,
     "metadata": {},
     "output_type": "execute_result"
    }
   ],
   "source": [
    "# Remove all whitespaces\n",
    "df[\"Contact/Mobile\"] = df[\"Contact/Mobile\"].str.replace(\" \", \"\")\n",
    "# Add +62 prefix to all Contact/Mobile numbers\n",
    "\n",
    "df[\"Contact/Mobile\"] = df[\"Contact/Mobile\"].str.replace(\"-\", \"\")\n",
    "# Remove the first \"0\" if it exists\n",
    "df[\"Contact/Mobile\"] = df[\"Contact/Mobile\"].str.lstrip(\"0\")\n",
    "\n",
    "# Add +62 prefix to all Contact/Mobile numbers\n",
    "df[\"Contact/Mobile\"] = \"+62\" + df[\"Contact/Mobile\"]\n",
    "\n",
    "df.dropna(subset=['Contact/Mobile'], inplace=True)\n",
    "df.fillna('', inplace=True)\n",
    "\n",
    "\n",
    "df.head()"
   ]
  },
  {
   "cell_type": "code",
   "execution_count": 5,
   "metadata": {},
   "outputs": [],
   "source": [
    "df.to_excel(\"../input/fixed.xlsx\", index=False)"
   ]
  },
  {
   "cell_type": "code",
   "execution_count": null,
   "metadata": {},
   "outputs": [],
   "source": []
  },
  {
   "cell_type": "code",
   "execution_count": null,
   "metadata": {},
   "outputs": [],
   "source": []
  },
  {
   "cell_type": "code",
   "execution_count": null,
   "metadata": {},
   "outputs": [],
   "source": []
  }
 ],
 "metadata": {
  "kernelspec": {
   "display_name": "harnis",
   "language": "python",
   "name": "python3"
  },
  "language_info": {
   "codemirror_mode": {
    "name": "ipython",
    "version": 3
   },
   "file_extension": ".py",
   "mimetype": "text/x-python",
   "name": "python",
   "nbconvert_exporter": "python",
   "pygments_lexer": "ipython3",
   "version": "3.9.19"
  }
 },
 "nbformat": 4,
 "nbformat_minor": 2
}
